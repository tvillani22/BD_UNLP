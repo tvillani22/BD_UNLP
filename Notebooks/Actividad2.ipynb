{
 "cells": [
  {
   "cell_type": "markdown",
   "metadata": {
    "id": "NzJlM18JCbN8"
   },
   "source": [
    "<h1 style=\"color:black;font-size:40px\"><center>ACTIVIDAD 2</center></h1>"
   ]
  },
  {
   "cell_type": "code",
   "execution_count": null,
   "metadata": {},
   "outputs": [],
   "source": [
    "# SOLO SI CORRIENDO EN COLAB\n",
    "import sys\n",
    "import os\n",
    "\n",
    "# Instalamos Spark para Python\n",
    "!pip install pyspark\n",
    "\n",
    "# Instalamos Java SDK 8\n",
    "!apt-get install -y openjdk-8-jdk -qq > /dev/null      \n",
    "!echo $(/usr/libexec/java_home -v 1.8)\n",
    "\n",
    "#set environment variable\n",
    "os.environ[\"JAVA_HOME\"] = \"/usr/lib/jvm/java-8-openjdk-amd64\"     \n",
    "!echo 2 | update-alternatives --config java\n",
    "\n",
    "# Bajar data\n",
    "!git clone https://github.com/tvillani22/BD_UNLP.git \n",
    "sys.path.append('/content/BD_UNLP/')\n",
    "os.chdir('BD_UNLP/Notebooks/')"
   ]
  },
  {
   "cell_type": "markdown",
   "metadata": {
    "id": "1lqVhZ-tlDwl"
   },
   "source": [
    ">**Dado el dataset Genealogía el cual está formado por los datos  `<nombre_individuo, dni_individuo, dni_mamá>`, implemente un script que permita resolver las siguientes consultas.**\n",
    "\n",
    "***Importo, creo los objetos, levanto la RDD y le doY formato a las filas. Luego creo un dataframe a partir de ella para usar esa API.***"
   ]
  },
  {
   "cell_type": "code",
   "execution_count": 3,
   "metadata": {
    "colab": {
     "base_uri": "https://localhost:8080/"
    },
    "executionInfo": {
     "elapsed": 15059,
     "status": "ok",
     "timestamp": 1635737507006,
     "user": {
      "displayName": "Tomás Villani",
      "photoUrl": "https://lh3.googleusercontent.com/a/default-user=s64",
      "userId": "05004401131283244595"
     },
     "user_tz": 180
    },
    "id": "XwWmjF6JQBxy",
    "outputId": "02983e5c-fce9-4db7-f9fd-cf872f049d63"
   },
   "outputs": [
    {
     "name": "stdout",
     "output_type": "stream",
     "text": [
      "root\n",
      " |-- nombre: string (nullable = true)\n",
      " |-- dni: long (nullable = true)\n",
      " |-- dni_madre: long (nullable = true)\n",
      "\n"
     ]
    }
   ],
   "source": [
    "from pyspark.sql import SQLContext, Row, SparkSession, functions as F\n",
    "\n",
    "# Creo objetos\n",
    "spark_session = SparkSession.builder\\\n",
    "                            .master(\"local\")\\\n",
    "                            .appName('Activ2')\\\n",
    "                            .getOrCreate()\n",
    "spark_context = spark_session._sc\n",
    "sql_context = SQLContext(spark_context, spark_session)\n",
    "\n",
    "# Creo RDD y armo schema\n",
    "file_path = '../Data/Genealogia/Genealogia.txt'\n",
    "gen = spark_context.textFile(file_path)\n",
    "gen = gen.map(lambda t: t.split('\\t'))\\\n",
    "         .map(lambda t: Row(nombre = t[0],\n",
    "                            dni = int(t[1]),\n",
    "                            dni_madre = None if t[2] == 'None' else int(t[2])))\n",
    "\n",
    "# Creo la dataframe y exploro el schema\n",
    "df = sql_context.createDataFrame(gen).persist()\n",
    "df.printSchema()"
   ]
  },
  {
   "cell_type": "markdown",
   "metadata": {},
   "source": [
    "***Hasta aquí, el DAG es...***\n",
    "\n",
    "![image.png](../imgs/21.png)\n",
    "\n",
    "\n",
    "***Y el dataframe resultante es la que usan las funciones siguientes para resolver los incisos 1 y 2.***\n",
    "\n",
    "***En el caso del inciso 3 el DAG es más complejo y se lo muestra al tratar ese punto.***"
   ]
  },
  {
   "cell_type": "markdown",
   "metadata": {
    "id": "-yep8AE2lYOA"
   },
   "source": [
    "## Inciso 1\n",
    "> **Dado los DNI de dos individuos determinar si son primos (dos individuos son primos si tienen la misma abuela).**\n",
    "\n",
    "***Creo funciones que, dado un DNI, me permitan conocer (de ser posible) el DNI de la madre y de la abuela. En base a ello, una tercera función que me permita verificar si son primos, hermanos o ninguna de ambas.***"
   ]
  },
  {
   "cell_type": "code",
   "execution_count": 4,
   "metadata": {
    "executionInfo": {
     "elapsed": 333,
     "status": "ok",
     "timestamp": 1635737512911,
     "user": {
      "displayName": "Tomás Villani",
      "photoUrl": "https://lh3.googleusercontent.com/a/default-user=s64",
      "userId": "05004401131283244595"
     },
     "user_tz": 180
    },
    "id": "2-kI84ixI0YW"
   },
   "outputs": [],
   "source": [
    "def dni_madre(df, dni):\n",
    "    '''Devuelve el dni de la madre.\n",
    "\n",
    "    PARÁMETROS:\n",
    "    df: Pyspark Dataframe\n",
    "    dni: int\n",
    "    -----------\n",
    "    RETORNA:\n",
    "    out: int o None\n",
    "      dni de la madre si ese dato está en el dataset. None, en caso contrario.\n",
    "    '''\n",
    "    res = df.filter(df.dni == dni).collect()\n",
    "    if len(res) == 0:\n",
    "        print(f'El DNI {dni} no está registrado en el dataset.', end=' ')\n",
    "        return\n",
    "    return res[0]['dni_madre']\n",
    "\n",
    "\n",
    "def son_primos(df, i1, i2):\n",
    "    '''Dados dos dni determina, si es posible, si son primos.\n",
    "\n",
    "    PARÁMETROS:\n",
    "    df: Pyspark Dataframe\n",
    "    i1: int\n",
    "    i2: int\n",
    "    -----------\n",
    "    RETORNA:\n",
    "    out: bool o None\n",
    "      bool si es posible determinarlo con el dataset. None, en caso contrario.\n",
    "    '''\n",
    "    dni_m1, dni_m2 = dni_madre(df, i1), dni_madre(df, i2)\n",
    "    if dni_m1 is None and dni_m2 is None:\n",
    "        print(f'Con la información disponible, no es posible conocer la relación entre {i1} y {i2}.')\n",
    "        return \n",
    "\n",
    "    if None in [dni_m1, dni_m2]:\n",
    "        dni =  dni_m1 if dni_m1 is not None else dni_m2\n",
    "        if dni_madre(df, dni) is None:\n",
    "            print(f'Y como el otro individuo no tiene abuela registrada, no es '\n",
    "                  f'posible conocer la relación entre {i1} y {i2}.')\n",
    "            return\n",
    "        else: \n",
    "            print(f'Pero como el otro individuo tiene abuela registrada, los '\n",
    "                  f'individuos {i1} y {i2} no son primos ni hermanos.')\n",
    "            return False\n",
    "  \n",
    "    if dni_m1 == dni_m2:\n",
    "        print(f'Los individuos {i1} y {i2} no son primos, pero son hermanos.')\n",
    "        return False\n",
    "  \n",
    "    dni_a1, dni_a2 = dni_madre(df, dni_m1), dni_madre(df, dni_m2)\n",
    "    if dni_a1 is None and dni_a2 is None:\n",
    "        print(f'Con la información disponible, no es posible conocer la relación entre {i1} y {i2}.')\n",
    "        return \n",
    "    if dni_a1 == dni_a2:\n",
    "        print(f'Los individuos {i1} y {i2} son primos.')\n",
    "        return True\n",
    "    print(f'Los individuos {i1} y {i2} no son primos ni hermanos.')\n",
    "    return False"
   ]
  },
  {
   "cell_type": "markdown",
   "metadata": {
    "id": "ijgh9kH78MSO"
   },
   "source": [
    "***Evaluando varios pares de DNI como ejemplo de distintas posibilidades...***"
   ]
  },
  {
   "cell_type": "code",
   "execution_count": 5,
   "metadata": {
    "colab": {
     "base_uri": "https://localhost:8080/"
    },
    "executionInfo": {
     "elapsed": 5076,
     "status": "ok",
     "timestamp": 1635737520775,
     "user": {
      "displayName": "Tomás Villani",
      "photoUrl": "https://lh3.googleusercontent.com/a/default-user=s64",
      "userId": "05004401131283244595"
     },
     "user_tz": 180
    },
    "id": "VfqrWCAXtTmg",
    "outputId": "26e2d3dd-99bc-4310-aee7-c198ea62a066"
   },
   "outputs": [
    {
     "name": "stdout",
     "output_type": "stream",
     "text": [
      "Los individuos 4984 y 635 son primos.\n",
      "Los individuos 4984 y 634 no son primos ni hermanos.\n",
      "El DNI 632 no está registrado en el dataset. Pero como el otro individuo tiene abuela registrada, los individuos 4984 y 632 no son primos ni hermanos.\n",
      "El DNI 632 no está registrado en el dataset. Y como el otro individuo no tiene abuela registrada, no es posible conocer la relación entre 2014 y 632.\n"
     ]
    }
   ],
   "source": [
    "i1, i2 = 4984, 635\n",
    "son_primos(df, i1, i2)\n",
    "\n",
    "i1, i2 = 4984, 634\n",
    "son_primos(df, i1, i2)\n",
    "\n",
    "i1, i2 = 4984, 632   \n",
    "son_primos(df, i1, i2)\n",
    "\n",
    "i1, i2 = 2014, 632   \n",
    "son_primos(df, i1, i2);"
   ]
  },
  {
   "cell_type": "markdown",
   "metadata": {
    "id": "j7r3fIwOld90"
   },
   "source": [
    "***\n",
    "## Inciso 2\n",
    ">**Dado los DNI de dos individuos $i_1$ y $i_2$ determinar si $i_1$ es ancestro de $i_2$.**\n",
    "\n",
    "***Construyo una función que vaya buscando y guardando los ancestros del individuo 2 hasta llegar a la línea más alta de la genealogía. Luego, evalúa si el individuo 1 está entre ellos.***"
   ]
  },
  {
   "cell_type": "code",
   "execution_count": 6,
   "metadata": {
    "executionInfo": {
     "elapsed": 278,
     "status": "ok",
     "timestamp": 1635737524681,
     "user": {
      "displayName": "Tomás Villani",
      "photoUrl": "https://lh3.googleusercontent.com/a/default-user=s64",
      "userId": "05004401131283244595"
     },
     "user_tz": 180
    },
    "id": "tk4PuxA1D7K9"
   },
   "outputs": [],
   "source": [
    "def es_ancestro(df, dni1 , dni2):\n",
    "    '''Determina si un indivuo es ancestro de otro.\n",
    "\n",
    "    PARÁMETROS:\n",
    "    df : Pyspark Dataframe\n",
    "    dni1 : int\n",
    "    dni2 : int\n",
    "    -----------\n",
    "    RETORNA:\n",
    "    out: bool\n",
    "      True si el individuo de dni1 es ancestro del de dni2. False en caso contrario.\n",
    "    '''\n",
    "    ancestros = []\n",
    "    dni = dni2\n",
    "    while True:\n",
    "        dni_m = dni_madre(df, dni)\n",
    "        if dni_m is None:\n",
    "            break\n",
    "        else:\n",
    "            if dni1 in ancestros:\n",
    "                print(f'El individuo de dni {dni1} es ancestro del de dni {dni2}.')\n",
    "                return True\n",
    "            ancestros.append(dni_m)\n",
    "            dni = dni_m\n",
    "    print(f'El individuo de dni {dni1} no es ancestro del de dni {dni2}.')\n",
    "    return False"
   ]
  },
  {
   "cell_type": "markdown",
   "metadata": {
    "id": "wY-l9WXjAI1b"
   },
   "source": [
    "***Evaluando distintos pares de DNI como ejemplo de distintas posibilidades...***"
   ]
  },
  {
   "cell_type": "code",
   "execution_count": 7,
   "metadata": {
    "colab": {
     "base_uri": "https://localhost:8080/"
    },
    "executionInfo": {
     "elapsed": 2261,
     "status": "ok",
     "timestamp": 1635737529697,
     "user": {
      "displayName": "Tomás Villani",
      "photoUrl": "https://lh3.googleusercontent.com/a/default-user=s64",
      "userId": "05004401131283244595"
     },
     "user_tz": 180
    },
    "id": "vahP2t02Hk5p",
    "outputId": "d9744980-61cd-4d33-eed0-d3cc64650d8b"
   },
   "outputs": [
    {
     "name": "stdout",
     "output_type": "stream",
     "text": [
      "El individuo de dni 4032 es ancestro del de dni 3746.\n",
      "El individuo de dni 432 no es ancestro del de dni 3746.\n"
     ]
    }
   ],
   "source": [
    "i1, i2 = 4032, 3746\n",
    "es_ancestro(df, i1, i2)\n",
    "i1, i2 = 432, 3746\n",
    "es_ancestro(df, i1, i2);"
   ]
  },
  {
   "cell_type": "markdown",
   "metadata": {
    "id": "Vu5wJJvQldxV"
   },
   "source": [
    "***\n",
    "## Inciso 3\n",
    ">**Hallar el nombre de la “abuela” que tiene más descendientes.**\n",
    "\n",
    "***Creo un dataframe que contenga solo las abuelas que están en la línea más alta de la genealogía, y  lo muestro.***"
   ]
  },
  {
   "cell_type": "code",
   "execution_count": 8,
   "metadata": {
    "colab": {
     "base_uri": "https://localhost:8080/"
    },
    "executionInfo": {
     "elapsed": 884,
     "status": "ok",
     "timestamp": 1635737534800,
     "user": {
      "displayName": "Tomás Villani",
      "photoUrl": "https://lh3.googleusercontent.com/a/default-user=s64",
      "userId": "05004401131283244595"
     },
     "user_tz": 180
    },
    "id": "YsB1cd4VqJAX",
    "outputId": "6eb90700-6079-45c9-f062-c8bd3f3d7e39"
   },
   "outputs": [
    {
     "name": "stdout",
     "output_type": "stream",
     "text": [
      "+--------+----+---------+\n",
      "|  nombre| dni|dni_madre|\n",
      "+--------+----+---------+\n",
      "|Gavgaial|4113|     null|\n",
      "|Ymxunohg|1536|     null|\n",
      "| Csmmtmc|1945|     null|\n",
      "| Lwpodhj|4786|     null|\n",
      "|Lvnpghoj| 979|     null|\n",
      "| Dwnuphn| 310|     null|\n",
      "|  Nmnfqa|1271|     null|\n",
      "|  Cyumep|4295|     null|\n",
      "|  Lpclex|2085|     null|\n",
      "|Huoaczgp|1229|     null|\n",
      "+--------+----+---------+\n",
      "\n"
     ]
    }
   ],
   "source": [
    "abu = df.filter(df.dni_madre.isNull())\n",
    "abu.show()"
   ]
  },
  {
   "cell_type": "markdown",
   "metadata": {
    "id": "A6Pf4NS3D6B-"
   },
   "source": [
    "***Voy haciendo sucesivos `inner join` con el dataframe original para ir anexando los descendientes en las respectivas columnas. Lo hago hasta que el dataframe resultante esté vacío, lo cual implica que ya no había más descendientes para agregar a ninguna abuela, y me quedo con el dataframe previo, del que muestro la primera fila a modo de ilustrativo.***"
   ]
  },
  {
   "cell_type": "code",
   "execution_count": 9,
   "metadata": {
    "colab": {
     "base_uri": "https://localhost:8080/"
    },
    "executionInfo": {
     "elapsed": 14928,
     "status": "ok",
     "timestamp": 1635737555555,
     "user": {
      "displayName": "Tomás Villani",
      "photoUrl": "https://lh3.googleusercontent.com/a/default-user=s64",
      "userId": "05004401131283244595"
     },
     "user_tz": 180
    },
    "id": "924XP4gjkIbK",
    "outputId": "8cec7844-cc34-4f40-a234-9e7080b65375"
   },
   "outputs": [
    {
     "name": "stdout",
     "output_type": "stream",
     "text": [
      "+--------+----+---------+---------+---------+---------+---------+---------+---------+---------+---------+----------+----------+----------+----------+\n",
      "|  nombre| dni|dni_desc1|dni_desc2|dni_desc3|dni_desc4|dni_desc5|dni_desc6|dni_desc7|dni_desc8|dni_desc9|dni_desc10|dni_desc11|dni_desc12|dni_desc13|\n",
      "+--------+----+---------+---------+---------+---------+---------+---------+---------+---------+---------+----------+----------+----------+----------+\n",
      "|Gavgaial|4113|     2014|     1607|      666|     1107|     4424|      721|     4576|     4887|      552|      2064|      3615|      4494|      1641|\n",
      "+--------+----+---------+---------+---------+---------+---------+---------+---------+---------+---------+----------+----------+----------+----------+\n",
      "only showing top 1 row\n",
      "\n"
     ]
    }
   ],
   "source": [
    "# Creo una df con la que voy a ir haciendo los sucesivos joins, y la persisto\n",
    "df_base = df.drop('nombre').persist()\n",
    "\n",
    "# Defino variables iniciales del ciclo\n",
    "dfj = abu.drop('dni_madre') # DF de super_abuelas sin esa columna\n",
    "col_name_aux = 'dni'\n",
    "i = 1\n",
    "while True:\n",
    "    col_name = 'dni_desc' + str(i)\n",
    "    dfj_aux = df_base.withColumnRenamed('dni', col_name)\n",
    "    dfj_aux = dfj.join(dfj_aux, dfj[col_name_aux] == dfj_aux['dni_madre'], 'inner').select(dfj['*'], dfj_aux[col_name]) \n",
    "    col_name_aux = col_name\n",
    "    if dfj_aux.count() == 0:\n",
    "        dfj.show(1)\n",
    "        break\n",
    "    else:\n",
    "        dfj.unpersist()\n",
    "        dfj = dfj_aux.persist()\n",
    "        i += 1\n",
    "df_base.unpersist();"
   ]
  },
  {
   "cell_type": "markdown",
   "metadata": {
    "id": "xB68HUiiDSVl"
   },
   "source": [
    "***Finalmente, agrupo por las abuelas que hayan quedado en este dataframe y cuento el número de descendientes, mostrando el resultado y quedándome con la que tiene la mayor cantidad.***"
   ]
  },
  {
   "cell_type": "code",
   "execution_count": 10,
   "metadata": {
    "colab": {
     "base_uri": "https://localhost:8080/"
    },
    "executionInfo": {
     "elapsed": 2089,
     "status": "ok",
     "timestamp": 1635737564248,
     "user": {
      "displayName": "Tomás Villani",
      "photoUrl": "https://lh3.googleusercontent.com/a/default-user=s64",
      "userId": "05004401131283244595"
     },
     "user_tz": 180
    },
    "id": "TSLhtxf3kIXl",
    "outputId": "3b8a768b-003a-48d9-b563-82fbd783fda7"
   },
   "outputs": [
    {
     "name": "stdout",
     "output_type": "stream",
     "text": [
      "+--------+-----------------+\n",
      "|  nombre|num_descendientes|\n",
      "+--------+-----------------+\n",
      "| Lwpodhj|              106|\n",
      "|Gavgaial|              243|\n",
      "+--------+-----------------+\n",
      "\n",
      "La abuela con más descendientes es Gavgaial, con 243.\n"
     ]
    }
   ],
   "source": [
    "df_ = dfj.groupBy(dfj.nombre).agg(F.count('*').alias('num_descendientes'))\n",
    "df_.show()\n",
    "\n",
    "max_n_desc = df_.agg(F.max(df_['num_descendientes'])).first()[0]\n",
    "nombre, num_desc = df_.filter(df_.num_descendientes == max_n_desc).first()\n",
    "print(f'La abuela con más descendientes es {nombre}, con {num_desc}.')"
   ]
  },
  {
   "cell_type": "markdown",
   "metadata": {
    "id": "tQ8JzFHyDfvJ"
   },
   "source": [
    "***Por último, \"despersisto\" las persistidas y verifico que no quede nada persistido.***"
   ]
  },
  {
   "cell_type": "code",
   "execution_count": 11,
   "metadata": {
    "colab": {
     "base_uri": "https://localhost:8080/"
    },
    "executionInfo": {
     "elapsed": 288,
     "status": "ok",
     "timestamp": 1635737577353,
     "user": {
      "displayName": "Tomás Villani",
      "photoUrl": "https://lh3.googleusercontent.com/a/default-user=s64",
      "userId": "05004401131283244595"
     },
     "user_tz": 180
    },
    "id": "P6-RQAJh-zYp",
    "outputId": "a6c69244-386a-4f6f-ffee-96513835a44a"
   },
   "outputs": [
    {
     "data": {
      "text/plain": [
       "0"
      ]
     },
     "execution_count": 11,
     "metadata": {},
     "output_type": "execute_result"
    }
   ],
   "source": [
    "dfj.unpersist()\n",
    "df.unpersist()\n",
    "print('Persistidas:', len(spark_context._jsc.getPersistentRDDs().items()))"
   ]
  },
  {
   "cell_type": "markdown",
   "metadata": {},
   "source": [
    "***El DAG para este proceso es...***\n",
    "![image.png](../imgs/22.png)\n",
    "***\n",
    "***"
   ]
  },
  {
   "cell_type": "code",
   "execution_count": null,
   "metadata": {},
   "outputs": [],
   "source": []
  }
 ],
 "metadata": {
  "colab": {
   "authorship_tag": "ABX9TyNYkgzc5EbRa1aGLyxbahEt",
   "collapsed_sections": [],
   "name": "Actividad2.ipynb",
   "provenance": [
    {
     "file_id": "1CJ29RUTuM3LURZswPC0LGf5VqO3j5UnE",
     "timestamp": 1634751786009
    },
    {
     "file_id": "1ubMFMuBxQDDItkgZn_fw7m1YE2_GW9By",
     "timestamp": 1634664190994
    }
   ]
  },
  "kernelspec": {
   "display_name": "Python 3 (ipykernel)",
   "language": "python",
   "name": "python3"
  },
  "language_info": {
   "codemirror_mode": {
    "name": "ipython",
    "version": 3
   },
   "file_extension": ".py",
   "mimetype": "text/x-python",
   "name": "python",
   "nbconvert_exporter": "python",
   "pygments_lexer": "ipython3",
   "version": "3.9.7"
  }
 },
 "nbformat": 4,
 "nbformat_minor": 4
}
